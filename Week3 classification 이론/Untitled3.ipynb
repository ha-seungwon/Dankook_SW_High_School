{
  "nbformat": 4,
  "nbformat_minor": 0,
  "metadata": {
    "colab": {
      "provenance": []
    },
    "kernelspec": {
      "name": "python3",
      "display_name": "Python 3"
    },
    "language_info": {
      "name": "python"
    }
  },
  "cells": [
    {
      "cell_type": "code",
      "execution_count": 2,
      "metadata": {
        "colab": {
          "base_uri": "https://localhost:8080/"
        },
        "id": "DkmQFd3yOcUC",
        "outputId": "9493b3d7-d0a9-4981-c49e-015888fe1dff"
      },
      "outputs": [
        {
          "output_type": "stream",
          "name": "stdout",
          "text": [
            "17.296915907902086 4.158956107955707\n"
          ]
        }
      ],
      "source": [
        "import  numpy as np\n",
        "import matplotlib.pyplot as plt\n",
        "import pandas as pd\n",
        "import warnings\n",
        "from sklearn.model_selection import train_test_split\n",
        "from sklearn.linear_model import LinearRegression\n",
        "from sklearn.metrics import mean_squared_error, r2_score\n",
        "\n",
        "warnings.filterwarnings('ignore')\n",
        "\n",
        "data_url = \"http://lib.stat.cmu.edu/datasets/boston\"\n",
        "raw_df = pd.read_csv(data_url, sep=\"\\s+\", skiprows=22, header=None)\n",
        "\n",
        "\n",
        "data = np.hstack([raw_df.values[::2, :], raw_df.values[1::2, :2]])\n",
        "target = raw_df.values[1::2, 2]\n",
        "\n",
        "\n",
        "y_target = target\n",
        "X_data= data\n",
        "\n",
        "X_train,X_test, y_train,y_test = train_test_split(X_data,y_target, test_size=0.3,random_state=156)\n",
        "\n",
        "\n",
        "lr=LinearRegression()\n",
        "lr.fit(X_train,y_train)\n",
        "\n",
        "y_preds = lr.predict(X_test)\n",
        "mse= mean_squared_error(y_test, y_preds)\n",
        "rmse = np.sqrt(mse)\n",
        "\n",
        "print(mse,rmse)\n"
      ]
    },
    {
      "cell_type": "code",
      "source": [
        "from sklearn.preprocessing import PolynomialFeatures\n",
        "import numpy as up\n",
        "\n",
        "X = np.arange(4).reshape(2,2)\n",
        "\n",
        "print(\"일차 단항식 계수 피쳐\", X)\n",
        "\n",
        "poly = PolynomialFeatures(degree=2)\n",
        "poly.fit(X)\n",
        "poly_ftr = poly.transform(X)\n",
        "\n",
        "print(poly_ftr)"
      ],
      "metadata": {
        "colab": {
          "base_uri": "https://localhost:8080/"
        },
        "id": "029dgfRQSS0p",
        "outputId": "e9a6e793-10a8-414b-9095-f20bd5c3e0c2"
      },
      "execution_count": 3,
      "outputs": [
        {
          "output_type": "stream",
          "name": "stdout",
          "text": [
            "일차 단항식 계수 피쳐 [[0 1]\n",
            " [2 3]]\n",
            "[[1. 0. 1. 0. 0. 1.]\n",
            " [1. 2. 3. 4. 6. 9.]]\n"
          ]
        }
      ]
    }
  ]
}